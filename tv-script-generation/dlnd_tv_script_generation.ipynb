{
 "cells": [
  {
   "cell_type": "markdown",
   "metadata": {},
   "source": [
    "# TV Script Generation\n",
    "In this project, you'll generate your own [Simpsons](https://en.wikipedia.org/wiki/The_Simpsons) TV scripts using RNNs.  You'll be using part of the [Simpsons dataset](https://www.kaggle.com/wcukierski/the-simpsons-by-the-data) of scripts from 27 seasons.  The Neural Network you'll build will generate a new TV script for a scene at [Moe's Tavern](https://simpsonswiki.com/wiki/Moe's_Tavern).\n",
    "## Get the Data\n",
    "The data is already provided for you.  You'll be using a subset of the original dataset.  It consists of only the scenes in Moe's Tavern.  This doesn't include other versions of the tavern, like \"Moe's Cavern\", \"Flaming Moe's\", \"Uncle Moe's Family Feed-Bag\", etc.."
   ]
  },
  {
   "cell_type": "code",
   "execution_count": 1,
   "metadata": {},
   "outputs": [],
   "source": [
    "\"\"\"\n",
    "DON'T MODIFY ANYTHING IN THIS CELL\n",
    "\"\"\"\n",
    "import helper\n",
    "\n",
    "data_dir = './data/simpsons/moes_tavern_lines.txt'\n",
    "text = helper.load_data(data_dir)\n",
    "# Ignore notice, since we don't use it for analysing the data\n",
    "text = text[81:]"
   ]
  },
  {
   "cell_type": "markdown",
   "metadata": {},
   "source": [
    "## Explore the Data\n",
    "Play around with `view_sentence_range` to view different parts of the data."
   ]
  },
  {
   "cell_type": "code",
   "execution_count": 2,
   "metadata": {},
   "outputs": [
    {
     "name": "stdout",
     "output_type": "stream",
     "text": [
      "Dataset Stats\n",
      "Roughly the number of unique words: 11492\n",
      "Number of scenes: 262\n",
      "Average number of sentences in each scene: 15.248091603053435\n",
      "Number of lines: 4257\n",
      "Average number of words in each line: 11.50434578341555\n",
      "\n",
      "The sentences 0 to 10:\n",
      "Moe_Szyslak: (INTO PHONE) Moe's Tavern. Where the elite meet to drink.\n",
      "Bart_Simpson: Eh, yeah, hello, is Mike there? Last name, Rotch.\n",
      "Moe_Szyslak: (INTO PHONE) Hold on, I'll check. (TO BARFLIES) Mike Rotch. Mike Rotch. Hey, has anybody seen Mike Rotch, lately?\n",
      "Moe_Szyslak: (INTO PHONE) Listen you little puke. One of these days I'm gonna catch you, and I'm gonna carve my name on your back with an ice pick.\n",
      "Moe_Szyslak: What's the matter Homer? You're not your normal effervescent self.\n",
      "Homer_Simpson: I got my problems, Moe. Give me another one.\n",
      "Moe_Szyslak: Homer, hey, you should not drink to forget your problems.\n",
      "Barney_Gumble: Yeah, you should only drink to enhance your social skills.\n",
      "\n",
      "\n"
     ]
    }
   ],
   "source": [
    "view_sentence_range = (0, 10)\n",
    "\n",
    "\"\"\"\n",
    "DON'T MODIFY ANYTHING IN THIS CELL\n",
    "\"\"\"\n",
    "import numpy as np\n",
    "\n",
    "print('Dataset Stats')\n",
    "print('Roughly the number of unique words: {}'.format(len({word: None for word in text.split()})))\n",
    "scenes = text.split('\\n\\n')\n",
    "print('Number of scenes: {}'.format(len(scenes)))\n",
    "sentence_count_scene = [scene.count('\\n') for scene in scenes]\n",
    "print('Average number of sentences in each scene: {}'.format(np.average(sentence_count_scene)))\n",
    "\n",
    "sentences = [sentence for scene in scenes for sentence in scene.split('\\n')]\n",
    "print('Number of lines: {}'.format(len(sentences)))\n",
    "word_count_sentence = [len(sentence.split()) for sentence in sentences]\n",
    "print('Average number of words in each line: {}'.format(np.average(word_count_sentence)))\n",
    "\n",
    "print()\n",
    "print('The sentences {} to {}:'.format(*view_sentence_range))\n",
    "print('\\n'.join(text.split('\\n')[view_sentence_range[0]:view_sentence_range[1]]))"
   ]
  },
  {
   "cell_type": "markdown",
   "metadata": {},
   "source": [
    "## Implement Preprocessing Functions\n",
    "The first thing to do to any dataset is preprocessing.  Implement the following preprocessing functions below:\n",
    "- Lookup Table\n",
    "- Tokenize Punctuation\n",
    "\n",
    "### Lookup Table\n",
    "To create a word embedding, you first need to transform the words to ids.  In this function, create two dictionaries:\n",
    "- Dictionary to go from the words to an id, we'll call `vocab_to_int`\n",
    "- Dictionary to go from the id to word, we'll call `int_to_vocab`\n",
    "\n",
    "Return these dictionaries in the following tuple `(vocab_to_int, int_to_vocab)`"
   ]
  },
  {
   "cell_type": "code",
   "execution_count": 3,
   "metadata": {},
   "outputs": [
    {
     "name": "stdout",
     "output_type": "stream",
     "text": [
      "Tests Passed\n"
     ]
    }
   ],
   "source": [
    "import numpy as np\n",
    "import problem_unittests as tests\n",
    "\n",
    "def create_lookup_tables(text):\n",
    "    \"\"\"\n",
    "    Create lookup tables for vocabulary\n",
    "    :param text: The text of tv scripts split into words\n",
    "    :return: A tuple of dicts (vocab_to_int, int_to_vocab)\n",
    "    \"\"\"\n",
    "    # TODO: Implement Function\n",
    "    words = set(text)\n",
    "    vocab_to_int = {word: idx for (idx, word) in enumerate(words)}\n",
    "    int_to_vocab = {idx: word for (word, idx) in vocab_to_int.items()}\n",
    "    return vocab_to_int, int_to_vocab\n",
    "\n",
    "\n",
    "\"\"\"\n",
    "DON'T MODIFY ANYTHING IN THIS CELL THAT IS BELOW THIS LINE\n",
    "\"\"\"\n",
    "tests.test_create_lookup_tables(create_lookup_tables)"
   ]
  },
  {
   "cell_type": "markdown",
   "metadata": {},
   "source": [
    "### Tokenize Punctuation\n",
    "We'll be splitting the script into a word array using spaces as delimiters.  However, punctuations like periods and exclamation marks make it hard for the neural network to distinguish between the word \"bye\" and \"bye!\".\n",
    "\n",
    "Implement the function `token_lookup` to return a dict that will be used to tokenize symbols like \"!\" into \"||Exclamation_Mark||\".  Create a dictionary for the following symbols where the symbol is the key and value is the token:\n",
    "- Period ( . )\n",
    "- Comma ( , )\n",
    "- Quotation Mark ( \" )\n",
    "- Semicolon ( ; )\n",
    "- Exclamation mark ( ! )\n",
    "- Question mark ( ? )\n",
    "- Left Parentheses ( ( )\n",
    "- Right Parentheses ( ) )\n",
    "- Dash ( -- )\n",
    "- Return ( \\n )\n",
    "\n",
    "This dictionary will be used to token the symbols and add the delimiter (space) around it.  This separates the symbols as it's own word, making it easier for the neural network to predict on the next word. Make sure you don't use a token that could be confused as a word. Instead of using the token \"dash\", try using something like \"||dash||\"."
   ]
  },
  {
   "cell_type": "code",
   "execution_count": 4,
   "metadata": {},
   "outputs": [
    {
     "name": "stdout",
     "output_type": "stream",
     "text": [
      "Tests Passed\n"
     ]
    }
   ],
   "source": [
    "def token_lookup():\n",
    "    \"\"\"\n",
    "    Generate a dict to turn punctuation into a token.\n",
    "    :return: Tokenize dictionary where the key is the punctuation and the value is the token\n",
    "    \"\"\"\n",
    "    # TODO: Implement Function\n",
    "    return {\n",
    "        \".\":  \"||Period||\",\n",
    "        \",\":  \"||Comma||\",\n",
    "        \"\\\"\": \"||Quotation_Mark||\",\n",
    "        \";\":  \"||Semicolon||\",\n",
    "        \"!\":  \"||Exclamation_Mark||\",\n",
    "        \"?\":  \"||Question_Mark||\",\n",
    "        \"(\":  \"||Left_Parentheses||\",\n",
    "        \")\":  \"||Right_Parentheses||\",\n",
    "        \"--\": \"||Dash||\",\n",
    "        \"\\n\": \"||Return||\"\n",
    "    }\n",
    "\n",
    "\"\"\"\n",
    "DON'T MODIFY ANYTHING IN THIS CELL THAT IS BELOW THIS LINE\n",
    "\"\"\"\n",
    "tests.test_tokenize(token_lookup)"
   ]
  },
  {
   "cell_type": "markdown",
   "metadata": {},
   "source": [
    "## Preprocess all the data and save it\n",
    "Running the code cell below will preprocess all the data and save it to file."
   ]
  },
  {
   "cell_type": "code",
   "execution_count": 5,
   "metadata": {},
   "outputs": [],
   "source": [
    "\"\"\"\n",
    "DON'T MODIFY ANYTHING IN THIS CELL\n",
    "\"\"\"\n",
    "# Preprocess Training, Validation, and Testing Data\n",
    "helper.preprocess_and_save_data(data_dir, token_lookup, create_lookup_tables)"
   ]
  },
  {
   "cell_type": "markdown",
   "metadata": {},
   "source": [
    "# Check Point\n",
    "This is your first checkpoint. If you ever decide to come back to this notebook or have to restart the notebook, you can start from here. The preprocessed data has been saved to disk."
   ]
  },
  {
   "cell_type": "code",
   "execution_count": 6,
   "metadata": {},
   "outputs": [],
   "source": [
    "\"\"\"\n",
    "DON'T MODIFY ANYTHING IN THIS CELL\n",
    "\"\"\"\n",
    "import helper\n",
    "import numpy as np\n",
    "import problem_unittests as tests\n",
    "\n",
    "int_text, vocab_to_int, int_to_vocab, token_dict = helper.load_preprocess()"
   ]
  },
  {
   "cell_type": "markdown",
   "metadata": {},
   "source": [
    "## Build the Neural Network\n",
    "You'll build the components necessary to build a RNN by implementing the following functions below:\n",
    "- get_inputs\n",
    "- get_init_cell\n",
    "- get_embed\n",
    "- build_rnn\n",
    "- build_nn\n",
    "- get_batches\n",
    "\n",
    "### Check the Version of TensorFlow and Access to GPU"
   ]
  },
  {
   "cell_type": "code",
   "execution_count": 7,
   "metadata": {},
   "outputs": [
    {
     "name": "stdout",
     "output_type": "stream",
     "text": [
      "TensorFlow Version: 1.1.0\n",
      "Default GPU Device: /gpu:0\n"
     ]
    }
   ],
   "source": [
    "\"\"\"\n",
    "DON'T MODIFY ANYTHING IN THIS CELL\n",
    "\"\"\"\n",
    "from distutils.version import LooseVersion\n",
    "import warnings\n",
    "import tensorflow as tf\n",
    "\n",
    "# Check TensorFlow Version\n",
    "assert LooseVersion(tf.__version__) >= LooseVersion('1.0'), 'Please use TensorFlow version 1.0 or newer'\n",
    "print('TensorFlow Version: {}'.format(tf.__version__))\n",
    "\n",
    "# Check for a GPU\n",
    "if not tf.test.gpu_device_name():\n",
    "    warnings.warn('No GPU found. Please use a GPU to train your neural network.')\n",
    "else:\n",
    "    print('Default GPU Device: {}'.format(tf.test.gpu_device_name()))"
   ]
  },
  {
   "cell_type": "markdown",
   "metadata": {},
   "source": [
    "### Input\n",
    "Implement the `get_inputs()` function to create TF Placeholders for the Neural Network.  It should create the following placeholders:\n",
    "- Input text placeholder named \"input\" using the [TF Placeholder](https://www.tensorflow.org/api_docs/python/tf/placeholder) `name` parameter.\n",
    "- Targets placeholder\n",
    "- Learning Rate placeholder\n",
    "\n",
    "Return the placeholders in the following tuple `(Input, Targets, LearningRate)`"
   ]
  },
  {
   "cell_type": "code",
   "execution_count": 8,
   "metadata": {},
   "outputs": [
    {
     "name": "stdout",
     "output_type": "stream",
     "text": [
      "Tests Passed\n"
     ]
    }
   ],
   "source": [
    "def get_inputs():\n",
    "    \"\"\"\n",
    "    Create TF Placeholders for input, targets, and learning rate.\n",
    "    :return: Tuple (input, targets, learning rate)\n",
    "    \"\"\"\n",
    "    # TODO: Implement Function\n",
    "    input_  = tf.placeholder(tf.int32, shape=[None, None], name=\"input\")\n",
    "    targets = tf.placeholder(tf.int32, shape=[None, None], name=\"targets\")\n",
    "    lr      = tf.placeholder(tf.float32, name=\"learning_rate\")\n",
    "    return input_, targets, lr\n",
    "\n",
    "\n",
    "\"\"\"\n",
    "DON'T MODIFY ANYTHING IN THIS CELL THAT IS BELOW THIS LINE\n",
    "\"\"\"\n",
    "tests.test_get_inputs(get_inputs)"
   ]
  },
  {
   "cell_type": "markdown",
   "metadata": {},
   "source": [
    "### Build RNN Cell and Initialize\n",
    "Stack one or more [`BasicLSTMCells`](https://www.tensorflow.org/api_docs/python/tf/contrib/rnn/BasicLSTMCell) in a [`MultiRNNCell`](https://www.tensorflow.org/api_docs/python/tf/contrib/rnn/MultiRNNCell).\n",
    "- The Rnn size should be set using `rnn_size`\n",
    "- Initalize Cell State using the MultiRNNCell's [`zero_state()`](https://www.tensorflow.org/api_docs/python/tf/contrib/rnn/MultiRNNCell#zero_state) function\n",
    "    - Apply the name \"initial_state\" to the initial state using [`tf.identity()`](https://www.tensorflow.org/api_docs/python/tf/identity)\n",
    "\n",
    "Return the cell and initial state in the following tuple `(Cell, InitialState)`"
   ]
  },
  {
   "cell_type": "code",
   "execution_count": 9,
   "metadata": {},
   "outputs": [
    {
     "name": "stdout",
     "output_type": "stream",
     "text": [
      "Tests Passed\n"
     ]
    }
   ],
   "source": [
    "def get_init_cell(batch_size, rnn_size):\n",
    "    \"\"\"\n",
    "    Create an RNN Cell and initialize it.\n",
    "    :param batch_size: Size of batches\n",
    "    :param rnn_size: Size of RNNs\n",
    "    :return: Tuple (cell, initialize state)\n",
    "    \"\"\"\n",
    "    # TODO: Implement Function\n",
    "    layers = 3\n",
    "\n",
    "    cells = [tf.contrib.rnn.BasicLSTMCell(rnn_size) for _ in range(layers)]\n",
    "    cell = tf.contrib.rnn.MultiRNNCell(cells)\n",
    "    state = tf.identity(cell.zero_state(batch_size, tf.float32), name=\"initial_state\")\n",
    "\n",
    "    return cell, state\n",
    "\n",
    "\n",
    "\"\"\"\n",
    "DON'T MODIFY ANYTHING IN THIS CELL THAT IS BELOW THIS LINE\n",
    "\"\"\"\n",
    "tests.test_get_init_cell(get_init_cell)"
   ]
  },
  {
   "cell_type": "markdown",
   "metadata": {},
   "source": [
    "### Word Embedding\n",
    "Apply embedding to `input_data` using TensorFlow.  Return the embedded sequence."
   ]
  },
  {
   "cell_type": "code",
   "execution_count": 10,
   "metadata": {},
   "outputs": [
    {
     "name": "stdout",
     "output_type": "stream",
     "text": [
      "Tests Passed\n"
     ]
    }
   ],
   "source": [
    "def get_embed(input_data, vocab_size, embed_dim):\n",
    "    \"\"\"\n",
    "    Create embedding for <input_data>.\n",
    "    :param input_data: TF placeholder for text input.\n",
    "    :param vocab_size: Number of words in vocabulary.\n",
    "    :param embed_dim: Number of embedding dimensions\n",
    "    :return: Embedded input.\n",
    "    \"\"\"\n",
    "    # TODO: Implement Function\n",
    "    embedding = tf.Variable(tf.random_uniform(shape=(vocab_size, embed_dim), minval=-1, maxval=1),\n",
    "                            name=\"embedding\")\n",
    "    return tf.nn.embedding_lookup(embedding, input_data, name=\"embedding\")\n",
    "\n",
    "\n",
    "\"\"\"\n",
    "DON'T MODIFY ANYTHING IN THIS CELL THAT IS BELOW THIS LINE\n",
    "\"\"\"\n",
    "tests.test_get_embed(get_embed)"
   ]
  },
  {
   "cell_type": "markdown",
   "metadata": {},
   "source": [
    "### Build RNN\n",
    "You created a RNN Cell in the `get_init_cell()` function.  Time to use the cell to create a RNN.\n",
    "- Build the RNN using the [`tf.nn.dynamic_rnn()`](https://www.tensorflow.org/api_docs/python/tf/nn/dynamic_rnn)\n",
    " - Apply the name \"final_state\" to the final state using [`tf.identity()`](https://www.tensorflow.org/api_docs/python/tf/identity)\n",
    "\n",
    "Return the outputs and final_state state in the following tuple `(Outputs, FinalState)` "
   ]
  },
  {
   "cell_type": "code",
   "execution_count": 11,
   "metadata": {},
   "outputs": [
    {
     "name": "stdout",
     "output_type": "stream",
     "text": [
      "Tests Passed\n"
     ]
    }
   ],
   "source": [
    "def build_rnn(cell, inputs):\n",
    "    \"\"\"\n",
    "    Create a RNN using a RNN Cell\n",
    "    :param cell: RNN Cell\n",
    "    :param inputs: Input text data\n",
    "    :return: Tuple (Outputs, Final State)\n",
    "    \"\"\"\n",
    "    # TODO: Implement Function\n",
    "    outputs, state = tf.nn.dynamic_rnn(cell, inputs, dtype=tf.float32)\n",
    "    state = tf.identity(state, name=\"final_state\")\n",
    "    \n",
    "    return outputs, state\n",
    "\n",
    "\n",
    "\"\"\"\n",
    "DON'T MODIFY ANYTHING IN THIS CELL THAT IS BELOW THIS LINE\n",
    "\"\"\"\n",
    "tests.test_build_rnn(build_rnn)"
   ]
  },
  {
   "cell_type": "markdown",
   "metadata": {},
   "source": [
    "### Build the Neural Network\n",
    "Apply the functions you implemented above to:\n",
    "- Apply embedding to `input_data` using your `get_embed(input_data, vocab_size, embed_dim)` function.\n",
    "- Build RNN using `cell` and your `build_rnn(cell, inputs)` function.\n",
    "- Apply a fully connected layer with a linear activation and `vocab_size` as the number of outputs.\n",
    "\n",
    "Return the logits and final state in the following tuple (Logits, FinalState) "
   ]
  },
  {
   "cell_type": "code",
   "execution_count": 12,
   "metadata": {},
   "outputs": [
    {
     "name": "stdout",
     "output_type": "stream",
     "text": [
      "Tests Passed\n"
     ]
    }
   ],
   "source": [
    "def build_nn(cell, rnn_size, input_data, vocab_size, embed_dim):\n",
    "    \"\"\"\n",
    "    Build part of the neural network\n",
    "    :param cell: RNN cell\n",
    "    :param rnn_size: Size of rnns\n",
    "    :param input_data: Input data\n",
    "    :param vocab_size: Vocabulary size\n",
    "    :param embed_dim: Number of embedding dimensions\n",
    "    :return: Tuple (Logits, FinalState)\n",
    "    \"\"\"\n",
    "    # TODO: Implement Function\n",
    "    embed = get_embed(input_data, vocab_size, embed_dim)\n",
    "    rnn_output, state = build_rnn(cell, embed)\n",
    "    \n",
    "    logits = tf.layers.dense(inputs=rnn_output, units=vocab_size, use_bias=True, activation=None)\n",
    "    \n",
    "    return logits, state\n",
    "\n",
    "\n",
    "\"\"\"\n",
    "DON'T MODIFY ANYTHING IN THIS CELL THAT IS BELOW THIS LINE\n",
    "\"\"\"\n",
    "tests.test_build_nn(build_nn)"
   ]
  },
  {
   "cell_type": "markdown",
   "metadata": {},
   "source": [
    "### Batches\n",
    "Implement `get_batches` to create batches of input and targets using `int_text`.  The batches should be a Numpy array with the shape `(number of batches, 2, batch size, sequence length)`. Each batch contains two elements:\n",
    "- The first element is a single batch of **input** with the shape `[batch size, sequence length]`\n",
    "- The second element is a single batch of **targets** with the shape `[batch size, sequence length]`\n",
    "\n",
    "If you can't fill the last batch with enough data, drop the last batch.\n",
    "\n",
    "For exmple, `get_batches([1, 2, 3, 4, 5, 6, 7, 8, 9, 10, 11, 12, 13, 14, 15, 16, 17, 18, 19, 20], 3, 2)` would return a Numpy array of the following:\n",
    "```\n",
    "[\n",
    "  # First Batch\n",
    "  [\n",
    "    # Batch of Input\n",
    "    [[ 1  2], [ 7  8], [13 14]]\n",
    "    # Batch of targets\n",
    "    [[ 2  3], [ 8  9], [14 15]]\n",
    "  ]\n",
    "\n",
    "  # Second Batch\n",
    "  [\n",
    "    # Batch of Input\n",
    "    [[ 3  4], [ 9 10], [15 16]]\n",
    "    # Batch of targets\n",
    "    [[ 4  5], [10 11], [16 17]]\n",
    "  ]\n",
    "\n",
    "  # Third Batch\n",
    "  [\n",
    "    # Batch of Input\n",
    "    [[ 5  6], [11 12], [17 18]]\n",
    "    # Batch of targets\n",
    "    [[ 6  7], [12 13], [18  1]]\n",
    "  ]\n",
    "]\n",
    "```\n",
    "\n",
    "Notice that the last target value in the last batch is the first input value of the first batch. In this case, `1`. This is a common technique used when creating sequence batches, although it is rather unintuitive."
   ]
  },
  {
   "cell_type": "code",
   "execution_count": 13,
   "metadata": {},
   "outputs": [
    {
     "name": "stdout",
     "output_type": "stream",
     "text": [
      "Tests Passed\n"
     ]
    }
   ],
   "source": [
    "def get_batches(int_text, batch_size, seq_length):\n",
    "    \"\"\"\n",
    "    Return batches of input and target\n",
    "    :param int_text: Text with the words replaced by their ids\n",
    "    :param batch_size: The size of batch\n",
    "    :param seq_length: The length of sequence\n",
    "    :return: Batches as a Numpy array\n",
    "    \"\"\"\n",
    "    # TODO: Implement Function\n",
    "    n_batches = len(int_text) // (batch_size * seq_length)\n",
    "    int_text = int_text[:n_batches * (batch_size * seq_length)]\n",
    "    targets = np.roll(int_text, -1)\n",
    "\n",
    "    batches = np.zeros((n_batches, 2, batch_size, seq_length), dtype=np.int32)\n",
    "    \n",
    "    batch_idx = 0\n",
    "    idx_in_batch = 0\n",
    "    for ii in range(0, len(int_text), seq_length):\n",
    "        x = int_text[ii : ii + seq_length]\n",
    "        y =  targets[ii : ii + seq_length]\n",
    "        batches[batch_idx, 0, idx_in_batch] = x\n",
    "        batches[batch_idx, 1, idx_in_batch] = y\n",
    "        batch_idx += 1\n",
    "        if batch_idx == n_batches:\n",
    "            idx_in_batch += 1\n",
    "            batch_idx = 0\n",
    "    \n",
    "    return batches\n",
    "\n",
    "\n",
    "\"\"\"\n",
    "DON'T MODIFY ANYTHING IN THIS CELL THAT IS BELOW THIS LINE\n",
    "\"\"\"\n",
    "tests.test_get_batches(get_batches)"
   ]
  },
  {
   "cell_type": "markdown",
   "metadata": {},
   "source": [
    "## Neural Network Training\n",
    "### Hyperparameters\n",
    "Tune the following parameters:\n",
    "\n",
    "- Set `num_epochs` to the number of epochs.\n",
    "- Set `batch_size` to the batch size.\n",
    "- Set `rnn_size` to the size of the RNNs.\n",
    "- Set `embed_dim` to the size of the embedding.\n",
    "- Set `seq_length` to the length of sequence.\n",
    "- Set `learning_rate` to the learning rate.\n",
    "- Set `show_every_n_batches` to the number of batches the neural network should print progress."
   ]
  },
  {
   "cell_type": "code",
   "execution_count": 14,
   "metadata": {},
   "outputs": [],
   "source": [
    "# Number of Epochs\n",
    "num_epochs = 500\n",
    "# Batch Size\n",
    "batch_size = 256\n",
    "# RNN Size\n",
    "rnn_size = 512\n",
    "# Embedding Dimension Size\n",
    "embed_dim = 300\n",
    "# Sequence Length\n",
    "seq_length = 22\n",
    "# Learning Rate\n",
    "learning_rate = 0.0005\n",
    "# Show stats for every n number of batches\n",
    "show_every_n_batches = 24\n",
    "\n",
    "\"\"\"\n",
    "DON'T MODIFY ANYTHING IN THIS CELL THAT IS BELOW THIS LINE\n",
    "\"\"\"\n",
    "save_dir = './save'"
   ]
  },
  {
   "cell_type": "markdown",
   "metadata": {},
   "source": [
    "### Build the Graph\n",
    "Build the graph using the neural network you implemented."
   ]
  },
  {
   "cell_type": "code",
   "execution_count": 15,
   "metadata": {},
   "outputs": [],
   "source": [
    "\"\"\"\n",
    "DON'T MODIFY ANYTHING IN THIS CELL\n",
    "\"\"\"\n",
    "from tensorflow.contrib import seq2seq\n",
    "\n",
    "train_graph = tf.Graph()\n",
    "with train_graph.as_default():\n",
    "    vocab_size = len(int_to_vocab)\n",
    "    input_text, targets, lr = get_inputs()\n",
    "    input_data_shape = tf.shape(input_text)\n",
    "    cell, initial_state = get_init_cell(input_data_shape[0], rnn_size)\n",
    "    logits, final_state = build_nn(cell, rnn_size, input_text, vocab_size, embed_dim)\n",
    "\n",
    "    # Probabilities for generating words\n",
    "    probs = tf.nn.softmax(logits, name='probs')\n",
    "\n",
    "    # Loss function\n",
    "    cost = seq2seq.sequence_loss(\n",
    "        logits,\n",
    "        targets,\n",
    "        tf.ones([input_data_shape[0], input_data_shape[1]]))\n",
    "\n",
    "    # Optimizer\n",
    "    optimizer = tf.train.AdamOptimizer(lr)\n",
    "\n",
    "    # Gradient Clipping\n",
    "    gradients = optimizer.compute_gradients(cost)\n",
    "    capped_gradients = [(tf.clip_by_value(grad, -1., 1.), var) for grad, var in gradients if grad is not None]\n",
    "    train_op = optimizer.apply_gradients(capped_gradients)"
   ]
  },
  {
   "cell_type": "markdown",
   "metadata": {},
   "source": [
    "## Train\n",
    "Train the neural network on the preprocessed data.  If you have a hard time getting a good loss, check the [forums](https://discussions.udacity.com/) to see if anyone is having the same problem."
   ]
  },
  {
   "cell_type": "code",
   "execution_count": 16,
   "metadata": {},
   "outputs": [
    {
     "name": "stdout",
     "output_type": "stream",
     "text": [
      "Epoch   0 Batch    0/12   train_loss = 8.822\n",
      "Epoch   2 Batch    0/12   train_loss = 6.110\n",
      "Epoch   4 Batch    0/12   train_loss = 5.966\n",
      "Epoch   6 Batch    0/12   train_loss = 5.935\n",
      "Epoch   8 Batch    0/12   train_loss = 5.917\n",
      "Epoch  10 Batch    0/12   train_loss = 5.906\n",
      "Epoch  12 Batch    0/12   train_loss = 5.897\n",
      "Epoch  14 Batch    0/12   train_loss = 5.891\n",
      "Epoch  16 Batch    0/12   train_loss = 5.885\n",
      "Epoch  18 Batch    0/12   train_loss = 5.882\n",
      "Epoch  20 Batch    0/12   train_loss = 5.877\n",
      "Epoch  22 Batch    0/12   train_loss = 5.872\n",
      "Epoch  24 Batch    0/12   train_loss = 5.869\n",
      "Epoch  26 Batch    0/12   train_loss = 5.866\n",
      "Epoch  28 Batch    0/12   train_loss = 5.863\n",
      "Epoch  30 Batch    0/12   train_loss = 5.860\n",
      "Epoch  32 Batch    0/12   train_loss = 5.858\n",
      "Epoch  34 Batch    0/12   train_loss = 5.855\n",
      "Epoch  36 Batch    0/12   train_loss = 5.852\n",
      "Epoch  38 Batch    0/12   train_loss = 5.844\n",
      "Epoch  40 Batch    0/12   train_loss = 5.837\n",
      "Epoch  42 Batch    0/12   train_loss = 5.823\n",
      "Epoch  44 Batch    0/12   train_loss = 5.806\n",
      "Epoch  46 Batch    0/12   train_loss = 5.784\n",
      "Epoch  48 Batch    0/12   train_loss = 5.740\n",
      "Epoch  50 Batch    0/12   train_loss = 5.689\n",
      "Epoch  52 Batch    0/12   train_loss = 5.642\n",
      "Epoch  54 Batch    0/12   train_loss = 5.575\n",
      "Epoch  56 Batch    0/12   train_loss = 5.515\n",
      "Epoch  58 Batch    0/12   train_loss = 5.443\n",
      "Epoch  60 Batch    0/12   train_loss = 5.355\n",
      "Epoch  62 Batch    0/12   train_loss = 5.283\n",
      "Epoch  64 Batch    0/12   train_loss = 5.179\n",
      "Epoch  66 Batch    0/12   train_loss = 5.096\n",
      "Epoch  68 Batch    0/12   train_loss = 5.018\n",
      "Epoch  70 Batch    0/12   train_loss = 4.948\n",
      "Epoch  72 Batch    0/12   train_loss = 4.880\n",
      "Epoch  74 Batch    0/12   train_loss = 4.821\n",
      "Epoch  76 Batch    0/12   train_loss = 4.778\n",
      "Epoch  78 Batch    0/12   train_loss = 4.707\n",
      "Epoch  80 Batch    0/12   train_loss = 4.655\n",
      "Epoch  82 Batch    0/12   train_loss = 4.608\n",
      "Epoch  84 Batch    0/12   train_loss = 4.561\n",
      "Epoch  86 Batch    0/12   train_loss = 4.517\n",
      "Epoch  88 Batch    0/12   train_loss = 4.488\n",
      "Epoch  90 Batch    0/12   train_loss = 4.489\n",
      "Epoch  92 Batch    0/12   train_loss = 4.399\n",
      "Epoch  94 Batch    0/12   train_loss = 4.362\n",
      "Epoch  96 Batch    0/12   train_loss = 4.302\n",
      "Epoch  98 Batch    0/12   train_loss = 4.268\n",
      "Epoch 100 Batch    0/12   train_loss = 4.298\n",
      "Epoch 102 Batch    0/12   train_loss = 4.212\n",
      "Epoch 104 Batch    0/12   train_loss = 4.159\n",
      "Epoch 106 Batch    0/12   train_loss = 4.129\n",
      "Epoch 108 Batch    0/12   train_loss = 4.121\n",
      "Epoch 110 Batch    0/12   train_loss = 4.092\n",
      "Epoch 112 Batch    0/12   train_loss = 4.043\n",
      "Epoch 114 Batch    0/12   train_loss = 4.041\n",
      "Epoch 116 Batch    0/12   train_loss = 4.000\n",
      "Epoch 118 Batch    0/12   train_loss = 3.950\n",
      "Epoch 120 Batch    0/12   train_loss = 3.925\n",
      "Epoch 122 Batch    0/12   train_loss = 3.882\n",
      "Epoch 124 Batch    0/12   train_loss = 3.880\n",
      "Epoch 126 Batch    0/12   train_loss = 3.860\n",
      "Epoch 128 Batch    0/12   train_loss = 3.799\n",
      "Epoch 130 Batch    0/12   train_loss = 3.771\n",
      "Epoch 132 Batch    0/12   train_loss = 3.759\n",
      "Epoch 134 Batch    0/12   train_loss = 3.772\n",
      "Epoch 136 Batch    0/12   train_loss = 3.706\n",
      "Epoch 138 Batch    0/12   train_loss = 3.691\n",
      "Epoch 140 Batch    0/12   train_loss = 3.672\n",
      "Epoch 142 Batch    0/12   train_loss = 3.683\n",
      "Epoch 144 Batch    0/12   train_loss = 3.674\n",
      "Epoch 146 Batch    0/12   train_loss = 3.640\n",
      "Epoch 148 Batch    0/12   train_loss = 3.631\n",
      "Epoch 150 Batch    0/12   train_loss = 3.713\n",
      "Epoch 152 Batch    0/12   train_loss = 3.551\n",
      "Epoch 154 Batch    0/12   train_loss = 3.497\n",
      "Epoch 156 Batch    0/12   train_loss = 3.469\n",
      "Epoch 158 Batch    0/12   train_loss = 3.462\n",
      "Epoch 160 Batch    0/12   train_loss = 3.469\n",
      "Epoch 162 Batch    0/12   train_loss = 3.397\n",
      "Epoch 164 Batch    0/12   train_loss = 3.417\n",
      "Epoch 166 Batch    0/12   train_loss = 3.362\n",
      "Epoch 168 Batch    0/12   train_loss = 3.504\n",
      "Epoch 170 Batch    0/12   train_loss = 3.627\n",
      "Epoch 172 Batch    0/12   train_loss = 3.419\n",
      "Epoch 174 Batch    0/12   train_loss = 3.345\n",
      "Epoch 176 Batch    0/12   train_loss = 3.298\n",
      "Epoch 178 Batch    0/12   train_loss = 3.297\n",
      "Epoch 180 Batch    0/12   train_loss = 3.380\n",
      "Epoch 182 Batch    0/12   train_loss = 3.477\n",
      "Epoch 184 Batch    0/12   train_loss = 3.262\n",
      "Epoch 186 Batch    0/12   train_loss = 3.169\n",
      "Epoch 188 Batch    0/12   train_loss = 3.136\n",
      "Epoch 190 Batch    0/12   train_loss = 3.140\n",
      "Epoch 192 Batch    0/12   train_loss = 3.091\n",
      "Epoch 194 Batch    0/12   train_loss = 3.060\n",
      "Epoch 196 Batch    0/12   train_loss = 3.042\n",
      "Epoch 198 Batch    0/12   train_loss = 3.112\n",
      "Epoch 200 Batch    0/12   train_loss = 3.060\n",
      "Epoch 202 Batch    0/12   train_loss = 3.023\n",
      "Epoch 204 Batch    0/12   train_loss = 3.107\n",
      "Epoch 206 Batch    0/12   train_loss = 3.032\n",
      "Epoch 208 Batch    0/12   train_loss = 3.097\n",
      "Epoch 210 Batch    0/12   train_loss = 2.910\n",
      "Epoch 212 Batch    0/12   train_loss = 2.917\n",
      "Epoch 214 Batch    0/12   train_loss = 2.826\n",
      "Epoch 216 Batch    0/12   train_loss = 2.816\n",
      "Epoch 218 Batch    0/12   train_loss = 2.777\n",
      "Epoch 220 Batch    0/12   train_loss = 2.767\n",
      "Epoch 222 Batch    0/12   train_loss = 2.755\n",
      "Epoch 224 Batch    0/12   train_loss = 2.761\n",
      "Epoch 226 Batch    0/12   train_loss = 2.724\n",
      "Epoch 228 Batch    0/12   train_loss = 2.680\n",
      "Epoch 230 Batch    0/12   train_loss = 2.667\n",
      "Epoch 232 Batch    0/12   train_loss = 2.630\n",
      "Epoch 234 Batch    0/12   train_loss = 2.632\n",
      "Epoch 236 Batch    0/12   train_loss = 2.638\n",
      "Epoch 238 Batch    0/12   train_loss = 2.626\n",
      "Epoch 240 Batch    0/12   train_loss = 2.599\n",
      "Epoch 242 Batch    0/12   train_loss = 2.562\n",
      "Epoch 244 Batch    0/12   train_loss = 2.503\n",
      "Epoch 246 Batch    0/12   train_loss = 2.586\n",
      "Epoch 248 Batch    0/12   train_loss = 2.670\n",
      "Epoch 250 Batch    0/12   train_loss = 2.552\n",
      "Epoch 252 Batch    0/12   train_loss = 2.632\n",
      "Epoch 254 Batch    0/12   train_loss = 2.482\n",
      "Epoch 256 Batch    0/12   train_loss = 2.416\n",
      "Epoch 258 Batch    0/12   train_loss = 2.581\n",
      "Epoch 260 Batch    0/12   train_loss = 2.408\n",
      "Epoch 262 Batch    0/12   train_loss = 2.414\n",
      "Epoch 264 Batch    0/12   train_loss = 2.350\n",
      "Epoch 266 Batch    0/12   train_loss = 2.259\n",
      "Epoch 268 Batch    0/12   train_loss = 2.253\n",
      "Epoch 270 Batch    0/12   train_loss = 2.222\n",
      "Epoch 272 Batch    0/12   train_loss = 2.253\n",
      "Epoch 274 Batch    0/12   train_loss = 2.296\n",
      "Epoch 276 Batch    0/12   train_loss = 2.208\n",
      "Epoch 278 Batch    0/12   train_loss = 2.255\n",
      "Epoch 280 Batch    0/12   train_loss = 2.145\n",
      "Epoch 282 Batch    0/12   train_loss = 2.160\n",
      "Epoch 284 Batch    0/12   train_loss = 2.102\n",
      "Epoch 286 Batch    0/12   train_loss = 2.104\n",
      "Epoch 288 Batch    0/12   train_loss = 2.045\n",
      "Epoch 290 Batch    0/12   train_loss = 2.031\n",
      "Epoch 292 Batch    0/12   train_loss = 2.046\n",
      "Epoch 294 Batch    0/12   train_loss = 2.008\n",
      "Epoch 296 Batch    0/12   train_loss = 1.952\n",
      "Epoch 298 Batch    0/12   train_loss = 1.944\n",
      "Epoch 300 Batch    0/12   train_loss = 1.972\n",
      "Epoch 302 Batch    0/12   train_loss = 1.978\n",
      "Epoch 304 Batch    0/12   train_loss = 1.969\n",
      "Epoch 306 Batch    0/12   train_loss = 2.097\n",
      "Epoch 308 Batch    0/12   train_loss = 1.953\n",
      "Epoch 310 Batch    0/12   train_loss = 1.943\n",
      "Epoch 312 Batch    0/12   train_loss = 1.816\n",
      "Epoch 314 Batch    0/12   train_loss = 1.791\n",
      "Epoch 316 Batch    0/12   train_loss = 1.762\n",
      "Epoch 318 Batch    0/12   train_loss = 1.757\n",
      "Epoch 320 Batch    0/12   train_loss = 1.709\n",
      "Epoch 322 Batch    0/12   train_loss = 1.736\n",
      "Epoch 324 Batch    0/12   train_loss = 1.703\n",
      "Epoch 326 Batch    0/12   train_loss = 1.727\n",
      "Epoch 328 Batch    0/12   train_loss = 1.716\n",
      "Epoch 330 Batch    0/12   train_loss = 1.744\n",
      "Epoch 332 Batch    0/12   train_loss = 1.715\n",
      "Epoch 334 Batch    0/12   train_loss = 1.751\n",
      "Epoch 336 Batch    0/12   train_loss = 1.991\n",
      "Epoch 338 Batch    0/12   train_loss = 1.790\n",
      "Epoch 340 Batch    0/12   train_loss = 1.798\n",
      "Epoch 342 Batch    0/12   train_loss = 1.623\n",
      "Epoch 344 Batch    0/12   train_loss = 1.561\n",
      "Epoch 346 Batch    0/12   train_loss = 1.510\n",
      "Epoch 348 Batch    0/12   train_loss = 1.473\n",
      "Epoch 350 Batch    0/12   train_loss = 1.474\n",
      "Epoch 352 Batch    0/12   train_loss = 1.429\n",
      "Epoch 354 Batch    0/12   train_loss = 1.433\n",
      "Epoch 356 Batch    0/12   train_loss = 1.414\n",
      "Epoch 358 Batch    0/12   train_loss = 1.442\n",
      "Epoch 360 Batch    0/12   train_loss = 1.427\n",
      "Epoch 362 Batch    0/12   train_loss = 1.422\n",
      "Epoch 364 Batch    0/12   train_loss = 1.416\n"
     ]
    },
    {
     "name": "stdout",
     "output_type": "stream",
     "text": [
      "Epoch 366 Batch    0/12   train_loss = 1.425\n",
      "Epoch 368 Batch    0/12   train_loss = 1.378\n",
      "Epoch 370 Batch    0/12   train_loss = 1.344\n",
      "Epoch 372 Batch    0/12   train_loss = 1.371\n",
      "Epoch 374 Batch    0/12   train_loss = 1.464\n",
      "Epoch 376 Batch    0/12   train_loss = 1.417\n",
      "Epoch 378 Batch    0/12   train_loss = 1.456\n",
      "Epoch 380 Batch    0/12   train_loss = 1.322\n",
      "Epoch 382 Batch    0/12   train_loss = 1.260\n",
      "Epoch 384 Batch    0/12   train_loss = 1.218\n",
      "Epoch 386 Batch    0/12   train_loss = 1.238\n",
      "Epoch 388 Batch    0/12   train_loss = 1.199\n",
      "Epoch 390 Batch    0/12   train_loss = 1.250\n",
      "Epoch 392 Batch    0/12   train_loss = 1.227\n",
      "Epoch 394 Batch    0/12   train_loss = 1.253\n",
      "Epoch 396 Batch    0/12   train_loss = 1.315\n",
      "Epoch 398 Batch    0/12   train_loss = 1.244\n",
      "Epoch 400 Batch    0/12   train_loss = 1.270\n",
      "Epoch 402 Batch    0/12   train_loss = 1.181\n",
      "Epoch 404 Batch    0/12   train_loss = 1.134\n",
      "Epoch 406 Batch    0/12   train_loss = 1.105\n",
      "Epoch 408 Batch    0/12   train_loss = 1.120\n",
      "Epoch 410 Batch    0/12   train_loss = 1.076\n",
      "Epoch 412 Batch    0/12   train_loss = 1.050\n",
      "Epoch 414 Batch    0/12   train_loss = 1.113\n",
      "Epoch 416 Batch    0/12   train_loss = 1.030\n",
      "Epoch 418 Batch    0/12   train_loss = 1.101\n",
      "Epoch 420 Batch    0/12   train_loss = 1.043\n",
      "Epoch 422 Batch    0/12   train_loss = 0.983\n",
      "Epoch 424 Batch    0/12   train_loss = 0.961\n",
      "Epoch 426 Batch    0/12   train_loss = 0.929\n",
      "Epoch 428 Batch    0/12   train_loss = 0.914\n",
      "Epoch 430 Batch    0/12   train_loss = 0.908\n",
      "Epoch 432 Batch    0/12   train_loss = 0.893\n",
      "Epoch 434 Batch    0/12   train_loss = 0.895\n",
      "Epoch 436 Batch    0/12   train_loss = 0.899\n",
      "Epoch 438 Batch    0/12   train_loss = 0.947\n",
      "Epoch 440 Batch    0/12   train_loss = 0.923\n",
      "Epoch 442 Batch    0/12   train_loss = 0.935\n",
      "Epoch 444 Batch    0/12   train_loss = 0.904\n",
      "Epoch 446 Batch    0/12   train_loss = 0.932\n",
      "Epoch 448 Batch    0/12   train_loss = 0.932\n",
      "Epoch 450 Batch    0/12   train_loss = 0.892\n",
      "Epoch 452 Batch    0/12   train_loss = 0.872\n",
      "Epoch 454 Batch    0/12   train_loss = 0.861\n",
      "Epoch 456 Batch    0/12   train_loss = 0.827\n",
      "Epoch 458 Batch    0/12   train_loss = 0.821\n",
      "Epoch 460 Batch    0/12   train_loss = 0.780\n",
      "Epoch 462 Batch    0/12   train_loss = 0.770\n",
      "Epoch 464 Batch    0/12   train_loss = 0.791\n",
      "Epoch 466 Batch    0/12   train_loss = 0.749\n",
      "Epoch 468 Batch    0/12   train_loss = 0.760\n",
      "Epoch 470 Batch    0/12   train_loss = 0.754\n",
      "Epoch 472 Batch    0/12   train_loss = 0.760\n",
      "Epoch 474 Batch    0/12   train_loss = 0.729\n",
      "Epoch 476 Batch    0/12   train_loss = 0.726\n",
      "Epoch 478 Batch    0/12   train_loss = 0.738\n",
      "Epoch 480 Batch    0/12   train_loss = 0.757\n",
      "Epoch 482 Batch    0/12   train_loss = 0.797\n",
      "Epoch 484 Batch    0/12   train_loss = 0.761\n",
      "Epoch 486 Batch    0/12   train_loss = 0.703\n",
      "Epoch 488 Batch    0/12   train_loss = 0.660\n",
      "Epoch 490 Batch    0/12   train_loss = 0.615\n",
      "Epoch 492 Batch    0/12   train_loss = 0.637\n",
      "Epoch 494 Batch    0/12   train_loss = 0.613\n",
      "Epoch 496 Batch    0/12   train_loss = 0.621\n",
      "Epoch 498 Batch    0/12   train_loss = 0.700\n",
      "Model Trained and Saved\n"
     ]
    }
   ],
   "source": [
    "\"\"\"\n",
    "DON'T MODIFY ANYTHING IN THIS CELL\n",
    "\"\"\"\n",
    "batches = get_batches(int_text, batch_size, seq_length)\n",
    "\n",
    "with tf.Session(graph=train_graph) as sess:\n",
    "    sess.run(tf.global_variables_initializer())\n",
    "\n",
    "    for epoch_i in range(num_epochs):\n",
    "        state = sess.run(initial_state, {input_text: batches[0][0]})\n",
    "\n",
    "        for batch_i, (x, y) in enumerate(batches):\n",
    "            feed = {\n",
    "                input_text: x,\n",
    "                targets: y,\n",
    "                initial_state: state,\n",
    "                lr: learning_rate}\n",
    "            train_loss, state, _ = sess.run([cost, final_state, train_op], feed)\n",
    "\n",
    "            # Show every <show_every_n_batches> batches\n",
    "            if (epoch_i * len(batches) + batch_i) % show_every_n_batches == 0:\n",
    "                print('Epoch {:>3} Batch {:>4}/{}   train_loss = {:.3f}'.format(\n",
    "                    epoch_i,\n",
    "                    batch_i,\n",
    "                    len(batches),\n",
    "                    train_loss))\n",
    "\n",
    "    # Save Model\n",
    "    saver = tf.train.Saver()\n",
    "    saver.save(sess, save_dir)\n",
    "    print('Model Trained and Saved')"
   ]
  },
  {
   "cell_type": "markdown",
   "metadata": {},
   "source": [
    "## Save Parameters\n",
    "Save `seq_length` and `save_dir` for generating a new TV script."
   ]
  },
  {
   "cell_type": "code",
   "execution_count": 17,
   "metadata": {},
   "outputs": [],
   "source": [
    "\"\"\"\n",
    "DON'T MODIFY ANYTHING IN THIS CELL\n",
    "\"\"\"\n",
    "# Save parameters for checkpoint\n",
    "helper.save_params((seq_length, save_dir))"
   ]
  },
  {
   "cell_type": "markdown",
   "metadata": {},
   "source": [
    "# Checkpoint"
   ]
  },
  {
   "cell_type": "code",
   "execution_count": 18,
   "metadata": {},
   "outputs": [],
   "source": [
    "\"\"\"\n",
    "DON'T MODIFY ANYTHING IN THIS CELL\n",
    "\"\"\"\n",
    "import tensorflow as tf\n",
    "import numpy as np\n",
    "import helper\n",
    "import problem_unittests as tests\n",
    "\n",
    "_, vocab_to_int, int_to_vocab, token_dict = helper.load_preprocess()\n",
    "seq_length, load_dir = helper.load_params()"
   ]
  },
  {
   "cell_type": "markdown",
   "metadata": {},
   "source": [
    "## Implement Generate Functions\n",
    "### Get Tensors\n",
    "Get tensors from `loaded_graph` using the function [`get_tensor_by_name()`](https://www.tensorflow.org/api_docs/python/tf/Graph#get_tensor_by_name).  Get the tensors using the following names:\n",
    "- \"input:0\"\n",
    "- \"initial_state:0\"\n",
    "- \"final_state:0\"\n",
    "- \"probs:0\"\n",
    "\n",
    "Return the tensors in the following tuple `(InputTensor, InitialStateTensor, FinalStateTensor, ProbsTensor)` "
   ]
  },
  {
   "cell_type": "code",
   "execution_count": 19,
   "metadata": {},
   "outputs": [
    {
     "name": "stdout",
     "output_type": "stream",
     "text": [
      "Tests Passed\n"
     ]
    }
   ],
   "source": [
    "def get_tensors(loaded_graph):\n",
    "    \"\"\"\n",
    "    Get input, initial state, final state, and probabilities tensor from <loaded_graph>\n",
    "    :param loaded_graph: TensorFlow graph loaded from file\n",
    "    :return: Tuple (InputTensor, InitialStateTensor, FinalStateTensor, ProbsTensor)\n",
    "    \"\"\"\n",
    "    # TODO: Implement Function\n",
    "    names = [\"input:0\", \"initial_state:0\", \"final_state:0\", \"probs:0\"]\n",
    "    return [loaded_graph.get_tensor_by_name(name) for name in names]\n",
    "\n",
    "\"\"\"\n",
    "DON'T MODIFY ANYTHING IN THIS CELL THAT IS BELOW THIS LINE\n",
    "\"\"\"\n",
    "tests.test_get_tensors(get_tensors)"
   ]
  },
  {
   "cell_type": "markdown",
   "metadata": {},
   "source": [
    "### Choose Word\n",
    "Implement the `pick_word()` function to select the next word using `probabilities`."
   ]
  },
  {
   "cell_type": "code",
   "execution_count": 20,
   "metadata": {},
   "outputs": [
    {
     "name": "stdout",
     "output_type": "stream",
     "text": [
      "Tests Passed\n"
     ]
    }
   ],
   "source": [
    "def pick_word(probabilities, int_to_vocab):\n",
    "    \"\"\"\n",
    "    Pick the next word in the generated text\n",
    "    :param probabilities: Probabilites of the next word\n",
    "    :param int_to_vocab: Dictionary of word ids as the keys and words as the values\n",
    "    :return: String of the predicted word\n",
    "    \"\"\"\n",
    "    # TODO: Implement Function\n",
    "    idx = np.random.choice(a=len(probabilities), p=probabilities)\n",
    "    return int_to_vocab[idx]\n",
    "\n",
    "\n",
    "\"\"\"\n",
    "DON'T MODIFY ANYTHING IN THIS CELL THAT IS BELOW THIS LINE\n",
    "\"\"\"\n",
    "tests.test_pick_word(pick_word)"
   ]
  },
  {
   "cell_type": "markdown",
   "metadata": {},
   "source": [
    "## Generate TV Script\n",
    "This will generate the TV script for you.  Set `gen_length` to the length of TV script you want to generate."
   ]
  },
  {
   "cell_type": "code",
   "execution_count": 21,
   "metadata": {},
   "outputs": [
    {
     "name": "stdout",
     "output_type": "stream",
     "text": [
      "INFO:tensorflow:Restoring parameters from ./save\n",
      "moe_szyslak: wha!!(ad at a ball) hey, but don't join the smell by?\n",
      "homer_simpson:(repressed wave) mr. no, look, the car? oh if you should be friends, rub?\n",
      "moe_szyslak: maybe hello!\n",
      "homer_simpson: oh, but i see a human life, homer? no smells not seen no whole upon--\n",
      "barney-shaped_form: nearly?\n",
      "moe_szyslak: oh, hey, hey. first cost the guy will get old day and news in the parking foundation.\n",
      "lenny_leonard: so, uh, taking one of ever could say because we're the drug woman?\n",
      "marge_simpson: i'm the best one?\n",
      "grampa_simpson: okay! of a minute. homer, carl we got an years with\" things have are.\n",
      "moe_szyslak: yoo is to go?(determined) i'll should have the thing?(belch)\n",
      "moe_szyslak: see, homer, i-i'm surprised minimum up, or never hurt you as made 'em his way, i didn't have goes up.\n",
      "apu_nahasapeemapetilon: sounds? he's not top of a.\n",
      "moe_szyslak: and\n"
     ]
    }
   ],
   "source": [
    "gen_length = 200\n",
    "# homer_simpson, moe_szyslak, or Barney_Gumble\n",
    "prime_word = 'moe_szyslak'\n",
    "\n",
    "\"\"\"\n",
    "DON'T MODIFY ANYTHING IN THIS CELL THAT IS BELOW THIS LINE\n",
    "\"\"\"\n",
    "loaded_graph = tf.Graph()\n",
    "with tf.Session(graph=loaded_graph) as sess:\n",
    "    # Load saved model\n",
    "    loader = tf.train.import_meta_graph(load_dir + '.meta')\n",
    "    loader.restore(sess, load_dir)\n",
    "\n",
    "    # Get Tensors from loaded model\n",
    "    input_text, initial_state, final_state, probs = get_tensors(loaded_graph)\n",
    "\n",
    "    # Sentences generation setup\n",
    "    gen_sentences = [prime_word + ':']\n",
    "    prev_state = sess.run(initial_state, {input_text: np.array([[1]])})\n",
    "\n",
    "    # Generate sentences\n",
    "    for n in range(gen_length):\n",
    "        # Dynamic Input\n",
    "        dyn_input = [[vocab_to_int[word] for word in gen_sentences[-seq_length:]]]\n",
    "        dyn_seq_length = len(dyn_input[0])\n",
    "\n",
    "        # Get Prediction\n",
    "        probabilities, prev_state = sess.run(\n",
    "            [probs, final_state],\n",
    "            {input_text: dyn_input, initial_state: prev_state})\n",
    "        \n",
    "        pred_word = pick_word(probabilities[dyn_seq_length-1], int_to_vocab)\n",
    "\n",
    "        gen_sentences.append(pred_word)\n",
    "    \n",
    "    # Remove tokens\n",
    "    tv_script = ' '.join(gen_sentences)\n",
    "    for key, token in token_dict.items():\n",
    "        ending = ' ' if key in ['\\n', '(', '\"'] else ''\n",
    "        tv_script = tv_script.replace(' ' + token.lower(), key)\n",
    "    tv_script = tv_script.replace('\\n ', '\\n')\n",
    "    tv_script = tv_script.replace('( ', '(')\n",
    "        \n",
    "    print(tv_script)"
   ]
  },
  {
   "cell_type": "markdown",
   "metadata": {},
   "source": [
    "# The TV Script is Nonsensical\n",
    "It's ok if the TV script doesn't make any sense.  We trained on less than a megabyte of text.  In order to get good results, you'll have to use a smaller vocabulary or get more data.  Luckly there's more data!  As we mentioned in the begging of this project, this is a subset of [another dataset](https://www.kaggle.com/wcukierski/the-simpsons-by-the-data).  We didn't have you train on all the data, because that would take too long.  However, you are free to train your neural network on all the data.  After you complete the project, of course.\n",
    "# Submitting This Project\n",
    "When submitting this project, make sure to run all the cells before saving the notebook. Save the notebook file as \"dlnd_tv_script_generation.ipynb\" and save it as a HTML file under \"File\" -> \"Download as\". Include the \"helper.py\" and \"problem_unittests.py\" files in your submission."
   ]
  }
 ],
 "metadata": {
  "kernelspec": {
   "display_name": "Python 3",
   "language": "python",
   "name": "python3"
  },
  "language_info": {
   "codemirror_mode": {
    "name": "ipython",
    "version": 3
   },
   "file_extension": ".py",
   "mimetype": "text/x-python",
   "name": "python",
   "nbconvert_exporter": "python",
   "pygments_lexer": "ipython3",
   "version": "3.6.4"
  },
  "widgets": {
   "state": {},
   "version": "1.1.2"
  }
 },
 "nbformat": 4,
 "nbformat_minor": 1
}
